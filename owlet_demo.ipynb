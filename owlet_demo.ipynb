{
 "cells": [
  {
   "cell_type": "code",
   "execution_count": null,
   "metadata": {},
   "outputs": [],
   "source": [
    "%load_ext autoreload\n",
    "%autoreload 2"
   ]
  },
  {
   "cell_type": "code",
   "execution_count": null,
   "metadata": {},
   "outputs": [],
   "source": [
    "import IPython.display as ipd\n",
    "\n",
    "wav_path = \"lotek_owl_data/test.wav\"\n",
    "ipd.Audio(wav_path)"
   ]
  },
  {
   "cell_type": "code",
   "execution_count": null,
   "metadata": {},
   "outputs": [],
   "source": [
    "from data_utils import display_audio_file\n",
    "\n",
    "\n",
    "display_audio_file(wav_path)"
   ]
  },
  {
   "cell_type": "code",
   "execution_count": null,
   "metadata": {},
   "outputs": [],
   "source": [
    "from data_utils import display_melspec, display_zero_crossings\n",
    "\n",
    "\n",
    "display_zero_crossings()"
   ]
  },
  {
   "cell_type": "code",
   "execution_count": null,
   "metadata": {},
   "outputs": [],
   "source": [
    "from data import load_data\n",
    "\n",
    "\n",
    "batch_sz = 512\n",
    "debug = False\n",
    "spec_height = 750\n",
    "owlet_train, owlet_test, owlet_dataset = load_data(\n",
    "    \"lotek_owl_data\",\n",
    "    train_test_split=[1.0, 0],\n",
    "    batch_sz=batch_sz,\n",
    "    debug=debug,\n",
    "    spec_height=spec_height\n",
    ")"
   ]
  },
  {
   "cell_type": "markdown",
   "metadata": {},
   "source": [
    "---\n",
    "# How does it work?"
   ]
  },
  {
   "cell_type": "markdown",
   "metadata": {},
   "source": [
    "<img src=\"./img/explain_model.png\" alt=\"diagram\" width=\"1200\">\n",
    "\n",
    "---\n",
    "\n",
    "<img src=\"./img/explain_loss.png\" alt=\"loss\" width=\"600\">\n",
    "\n",
    "---"
   ]
  },
  {
   "cell_type": "markdown",
   "metadata": {},
   "source": [
    "# This is where the training code would go, but in the interest of time ...\n",
    "---"
   ]
  },
  {
   "cell_type": "code",
   "execution_count": null,
   "metadata": {},
   "outputs": [],
   "source": [
    "import torch\n",
    "\n",
    "\n",
    "# display trained embeds\n",
    "def create_embeds(model, dataloader):\n",
    "    embeds = []\n",
    "    specs = []\n",
    "    specs_og = []\n",
    "    for batch in dataloader:\n",
    "        data_specs, og_specs = batch\n",
    "        specs_og += og_specs.unbind()\n",
    "        specs += data_specs.unbind()\n",
    "        data_specs = data_specs.cuda()\n",
    "        embeds_batch = model(data_specs.cuda())\n",
    "        embeds.append(embeds_batch.detach().cpu())\n",
    "    embeds = torch.cat(embeds)\n",
    "    return embeds, specs, specs_og"
   ]
  },
  {
   "cell_type": "code",
   "execution_count": null,
   "metadata": {},
   "outputs": [],
   "source": [
    "from model import OwlNet\n",
    "\n",
    "\n",
    "drop = 0.0\n",
    "embed_sz = 64\n",
    "spec_height = 750\n",
    "\n",
    "model_name = \"model_3584.datapoints_105.epochs.pth\"\n",
    "owlnet_dict = torch.load(model_name)\n",
    "owlnet = OwlNet(embed_sz, drop).cuda()\n",
    "owlnet.load_state_dict(owlnet_dict)\n",
    "owlnet.eval()\n",
    "pass\n"
   ]
  },
  {
   "cell_type": "code",
   "execution_count": null,
   "metadata": {},
   "outputs": [],
   "source": [
    "from utils import VisualiserInteractive\n",
    "from data import CollateFunc\n",
    "\n",
    "\n",
    "collate_func = CollateFunc(spec_height=spec_height)\n",
    "embeddings, melspecs, melspecs_og = create_embeds(owlnet, owlet_train)\n",
    "vis = VisualiserInteractive(embeddings, melspecs, melspecs_og)\n",
    "vis.show()"
   ]
  }
 ],
 "metadata": {
  "kernelspec": {
   "display_name": "cairees",
   "language": "python",
   "name": "python3"
  },
  "language_info": {
   "codemirror_mode": {
    "name": "ipython",
    "version": 3
   },
   "file_extension": ".py",
   "mimetype": "text/x-python",
   "name": "python",
   "nbconvert_exporter": "python",
   "pygments_lexer": "ipython3",
   "version": "3.10.0"
  }
 },
 "nbformat": 4,
 "nbformat_minor": 2
}
