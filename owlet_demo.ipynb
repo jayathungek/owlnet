{
 "cells": [
  {
   "cell_type": "code",
   "execution_count": 1,
   "metadata": {},
   "outputs": [],
   "source": [
    "%load_ext autoreload\n",
    "%autoreload 2"
   ]
  },
  {
   "cell_type": "code",
   "execution_count": null,
   "metadata": {},
   "outputs": [],
   "source": [
    "import IPython.display as ipd\n",
    "\n",
    "wav_path = \"lotek_owl_data/test.wav\"\n",
    "ipd.Audio(wav_path)"
   ]
  },
  {
   "cell_type": "code",
   "execution_count": null,
   "metadata": {},
   "outputs": [],
   "source": [
    "from data_utils import display_audio_file\n",
    "\n",
    "\n",
    "display_audio_file(wav_path)"
   ]
  },
  {
   "cell_type": "code",
   "execution_count": null,
   "metadata": {},
   "outputs": [],
   "source": [
    "from data_utils import display_melspec, display_zero_crossings\n",
    "\n",
    "\n",
    "display_zero_crossings()"
   ]
  },
  {
   "cell_type": "code",
   "execution_count": 2,
   "metadata": {},
   "outputs": [
    {
     "name": "stdout",
     "output_type": "stream",
     "text": [
      "Processing file 1_Barn_Owl_hissing_002B_00-60_clean_HPF_500Hz\n"
     ]
    },
    {
     "data": {
      "application/vnd.jupyter.widget-view+json": {
       "model_id": "d6620f775c1f4bde8daa075e3ca22bcf",
       "version_major": 2,
       "version_minor": 0
      },
      "text/plain": [
       "  0%|          | 0/674 [00:00<?, ?it/s]"
      ]
     },
     "metadata": {},
     "output_type": "display_data"
    },
    {
     "name": "stdout",
     "output_type": "stream",
     "text": [
      "Processing file 1_Barn_Owl_hissing_005_00-60_clean_HPF_500Hz\n"
     ]
    },
    {
     "data": {
      "application/vnd.jupyter.widget-view+json": {
       "model_id": "ed423fdcce1a4216b533788fe0c3a696",
       "version_major": 2,
       "version_minor": 0
      },
      "text/plain": [
       "  0%|          | 0/752 [00:00<?, ?it/s]"
      ]
     },
     "metadata": {},
     "output_type": "display_data"
    },
    {
     "name": "stdout",
     "output_type": "stream",
     "text": [
      "Processing file 1_Barn_Owl_hissing_003_00-60_clean_HPF_500Hz\n"
     ]
    },
    {
     "data": {
      "application/vnd.jupyter.widget-view+json": {
       "model_id": "3986c7e59ce644159dbf48421fdd6ee4",
       "version_major": 2,
       "version_minor": 0
      },
      "text/plain": [
       "  0%|          | 0/1029 [00:00<?, ?it/s]"
      ]
     },
     "metadata": {},
     "output_type": "display_data"
    },
    {
     "name": "stdout",
     "output_type": "stream",
     "text": [
      "Processing file 1_Barn_Owl_hissing_004_00-60_clean_HPF_500Hz\n"
     ]
    },
    {
     "data": {
      "application/vnd.jupyter.widget-view+json": {
       "model_id": "2054afa8eecf42f0811208198a5b6ff2",
       "version_major": 2,
       "version_minor": 0
      },
      "text/plain": [
       "  0%|          | 0/920 [00:00<?, ?it/s]"
      ]
     },
     "metadata": {},
     "output_type": "display_data"
    }
   ],
   "source": [
    "from data import load_data\n",
    "\n",
    "\n",
    "batch_sz = 512\n",
    "debug = False\n",
    "spec_height = 750\n",
    "owlet_train, owlet_test, owlet_dataset = load_data(\n",
    "    \"lotek_owl_data\",\n",
    "    train_test_split=[1.0, 0],\n",
    "    batch_sz=batch_sz,\n",
    "    debug=debug,\n",
    "    spec_height=spec_height\n",
    ")"
   ]
  },
  {
   "cell_type": "markdown",
   "metadata": {},
   "source": [
    "<img src=\"./img/explain_model.png\" alt=\"diagram\" width=\"1200\">\n",
    "\n",
    "---\n",
    "\n",
    "<img src=\"./img/explain_loss.png\" alt=\"loss\" width=\"600\">\n",
    "\n",
    "---"
   ]
  },
  {
   "cell_type": "markdown",
   "metadata": {},
   "source": [
    "---\n",
    "# How does it work?"
   ]
  },
  {
   "cell_type": "markdown",
   "metadata": {},
   "source": [
    "# This is where the training code would go, but in the interest of time ...\n",
    "---"
   ]
  },
  {
   "cell_type": "code",
   "execution_count": 4,
   "metadata": {},
   "outputs": [],
   "source": [
    "import torch\n",
    "from model import OwlNet\n",
    "\n",
    "\n",
    "drop = 0.0\n",
    "embed_sz = 64\n",
    "spec_height = 750\n",
    "\n",
    "model_name = \"model_3584.datapoints_105.epochs.pth\"\n",
    "owlnet_dict = torch.load(model_name)\n",
    "owlnet = OwlNet(embed_sz, drop).cuda()\n",
    "owlnet.load_state_dict(owlnet_dict)\n",
    "owlnet.eval()\n",
    "pass\n"
   ]
  },
  {
   "cell_type": "code",
   "execution_count": 9,
   "metadata": {},
   "outputs": [
    {
     "name": "stdout",
     "output_type": "stream",
     "text": [
      "Adding 680 points for Owlet 1\n",
      "Adding 729 points for Owlet 2\n",
      "Adding 1966 points for Owlet 3\n"
     ]
    },
    {
     "data": {
      "application/vnd.jupyter.widget-view+json": {
       "model_id": "5107580ddc574d95a7c7e533ef08ad1d",
       "version_major": 2,
       "version_minor": 0
      },
      "text/plain": [
       "HBox(children=(FigureWidget({\n",
       "    'data': [{'customdata': [0, 4, 12, ..., 3362, 3366, 3367],\n",
       "              'ma…"
      ]
     },
     "metadata": {},
     "output_type": "display_data"
    }
   ],
   "source": [
    "from utils import VisualiserInteractive\n",
    "from data import CollateFunc\n",
    "from interactive import create_embeds\n",
    "\n",
    "\n",
    "collate_func = CollateFunc(spec_height=spec_height)\n",
    "embeddings, melspecs, melspecs_og = create_embeds(owlnet, owlet_train)\n",
    "vis = VisualiserInteractive(embeddings, melspecs, melspecs_og)\n",
    "vis.show()\n"
   ]
  },
  {
   "cell_type": "code",
   "execution_count": 26,
   "metadata": {},
   "outputs": [
    {
     "data": {
      "application/vnd.jupyter.widget-view+json": {
       "model_id": "0a885271b96a48a8bbdbe8ca9a92784c",
       "version_major": 2,
       "version_minor": 0
      },
      "text/plain": [
       "HBox(children=(Label(value='█░░░░░░░░░░░░░░░░░░░░░░░░░░░░░░░░░░░░░░░░░░░░░░░░░░░░░░░░░░░░░░░░░░░░░░░░░░░░░░░░░…"
      ]
     },
     "metadata": {},
     "output_type": "display_data"
    },
    {
     "data": {
      "application/vnd.jupyter.widget-view+json": {
       "model_id": "0e7e23ce0be54fdab25ae0c02ef4cecf",
       "version_major": 2,
       "version_minor": 0
      },
      "text/plain": [
       "HBox(children=(Button(description='Run', style=ButtonStyle()), Button(description='Step', style=ButtonStyle())…"
      ]
     },
     "metadata": {},
     "output_type": "display_data"
    }
   ],
   "source": [
    "from ipywidgets import widgets\n",
    "from interactive import step_button, reset_button, progress, step_run, reset\n",
    "\n",
    "step_button.on_click(lambda _: step_run(owlet_dataset, owlnet, vis))\n",
    "reset_button.on_click(lambda _: reset(vis, progress))\n",
    "display(widgets.HBox([progress]))\n",
    "display(widgets.HBox([step_button, reset_button]))\n",
    "\n"
   ]
  }
 ],
 "metadata": {
  "kernelspec": {
   "display_name": "cairees",
   "language": "python",
   "name": "python3"
  },
  "language_info": {
   "codemirror_mode": {
    "name": "ipython",
    "version": 3
   },
   "file_extension": ".py",
   "mimetype": "text/x-python",
   "name": "python",
   "nbconvert_exporter": "python",
   "pygments_lexer": "ipython3",
   "version": "3.10.0"
  }
 },
 "nbformat": 4,
 "nbformat_minor": 2
}
